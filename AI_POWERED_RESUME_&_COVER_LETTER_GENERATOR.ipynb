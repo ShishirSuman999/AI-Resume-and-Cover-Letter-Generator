{
  "nbformat": 4,
  "nbformat_minor": 0,
  "metadata": {
    "colab": {
      "provenance": [],
      "authorship_tag": "ABX9TyNGxEwQRw4qwjV3Ljwutgfk",
      "include_colab_link": true
    },
    "kernelspec": {
      "name": "python3",
      "display_name": "Python 3"
    },
    "language_info": {
      "name": "python"
    }
  },
  "cells": [
    {
      "cell_type": "markdown",
      "metadata": {
        "id": "view-in-github",
        "colab_type": "text"
      },
      "source": [
        "<a href=\"https://colab.research.google.com/github/ShishirSuman999/AI-Resume-and-Cover-Letter-Generator/blob/main/AI_POWERED_RESUME_%26_COVER_LETTER_GENERATOR.ipynb\" target=\"_parent\"><img src=\"https://colab.research.google.com/assets/colab-badge.svg\" alt=\"Open In Colab\"/></a>"
      ]
    },
    {
      "cell_type": "markdown",
      "source": [
        "# PROJECT DESCRIPTION\n",
        "### Project Title :-\n",
        "AI-Powered Resume & Cover Letter Generator\n",
        "\n",
        "### Objective :-\n",
        "This project enables users to generate Resumes and Cover Letters by inputting their details into an interactive form directly within Google Colab. The generated documents can be automatically saved to the user’s Google Drive. By leveraging AI for content generation, this tool enhances personalization and efficiency while ensuring data privacy and user-friendliness through Colab integration.\n",
        "\n",
        "### Features :-\n",
        "-> Interactive User Input: Utilizes Colab forms to guide users through data entry.\n",
        "\n",
        "-> AI Powered: Uses natural language generation to create well-structured resume content from minimal user information (personal info, education, work experience, skills, and some extra sections (projects, awards, etc.)).\n",
        "\n",
        "-> Supports both simple and styled (fancy) PDF templates.\n",
        "\n",
        "-> Google Drive Integration: Saves the generated files directly to the user's Drive.\n",
        "\n",
        "-> Allows download of generated files in PDF format.\n",
        "\n",
        "-> No manual coding needed by end-users.\n",
        "\n",
        "### Use Cases :-\n",
        "-> Students and job seekers looking for a fast, customizable resume builder without needing design skills.\n",
        "\n",
        "-> Individuals without access to premium tools like Canva, Overleaf, or Microsoft Word.\n",
        "\n",
        "-> Users who want to add a profile photo and download their resume as an image for use on platforms like LinkedIn or job portals."
      ],
      "metadata": {
        "id": "OMOEG2ie-282"
      }
    },
    {
      "cell_type": "markdown",
      "source": [
        "# CODE\n",
        "\n",
        "1. Install required libraries and import dependencies"
      ],
      "metadata": {
        "id": "qbYlecMX-75t"
      }
    },
    {
      "cell_type": "code",
      "execution_count": null,
      "metadata": {
        "id": "DZ6zA6_Sv8kn"
      },
      "outputs": [],
      "source": [
        "!pip install --quiet reportlab\n",
        "\n",
        "import io, os\n",
        "from datetime import datetime\n",
        "from reportlab.platypus import (\n",
        "    SimpleDocTemplate, Paragraph, Spacer,\n",
        "    ListFlowable, ListItem, HRFlowable\n",
        ")\n",
        "from reportlab.lib.styles import getSampleStyleSheet, ParagraphStyle\n",
        "from reportlab.lib.pagesizes import letter\n",
        "from reportlab.lib import colors"
      ]
    },
    {
      "cell_type": "markdown",
      "source": [
        "3. Collect Information / Details"
      ],
      "metadata": {
        "id": "vVWT6JNX_6Br"
      }
    },
    {
      "cell_type": "code",
      "source": [
        "print(\"\\n===== ATS-Friendly Resume & Cover Letter Builder =====\\n\")\n",
        "\n",
        "# Basic Details\n",
        "name = input(\"Full Name: \").strip()\n",
        "phone_no = input(\"Phone No.: \").strip()\n",
        "email = input(\"Email: \").strip()\n",
        "linkedin = input(\"LinkedIn URL: \").strip()\n",
        "github = input(\"GitHub URL: \").strip()\n",
        "leetcode = input(\"LeetCode (or other coding profile) URL: \").strip()\n",
        "codeforces = input(\"Codeforces (or other platform) URL: \").strip()\n",
        "summary = input(\"Professional Summary: \").strip()\n",
        "\n",
        "# Education\n",
        "education = []\n",
        "print(\"\\n--- Education ---\")\n",
        "while True:\n",
        "    degree = input(\"Degree (press Enter to stop): \").strip()\n",
        "    if not degree:\n",
        "        break\n",
        "    institution = input(\"Institution: \").strip()\n",
        "    duration = input(\"Duration (e.g., 2022–2026): \").strip()\n",
        "    education.append({'degree': degree, 'institution': institution, 'duration': duration})\n",
        "\n",
        "# Experience\n",
        "experience = []\n",
        "print(\"\\n--- Experience ---\")\n",
        "while True:\n",
        "    job = input(\"Job Title (press Enter to stop): \").strip()\n",
        "    if not job:\n",
        "        break\n",
        "    company = input(\"Company: \").strip()\n",
        "    time = input(\"Duration (e.g., Jan 2021 – Present): \").strip()\n",
        "    descs = []\n",
        "    print(\"Responsibilities/Accomplishments (Enter blank line to stop):\")\n",
        "    while True:\n",
        "        desc = input(\"- \").strip()\n",
        "        if not desc:\n",
        "            break\n",
        "        descs.append(desc)\n",
        "    experience.append({'job': job, 'company': company, 'time': time, 'desc': descs})\n",
        "\n",
        "# Skills\n",
        "skills = input(\"\\nSkills (comma-separated): \").split(',')\n",
        "\n",
        "# Extras\n",
        "extras = {}\n",
        "print(\"\\n--- Other Sections ---\")\n",
        "while True:\n",
        "    section = input(\"Section Title (Projects/Certifications) (press Enter to stop): \").strip()\n",
        "    if not section:\n",
        "        break\n",
        "    items = []\n",
        "    print(f\"Add entries for {section} (Enter blank line to stop):\")\n",
        "    while True:\n",
        "        item = input(\"- \").strip()\n",
        "        if not item:\n",
        "            break\n",
        "        items.append(item)\n",
        "    extras[section] = items\n",
        "\n",
        "# Cover Letter\n",
        "print(\"\\n===== Cover Letter Section =====\")\n",
        "cl_job_title = input(\"Job Title you're applying for: \").strip()\n",
        "cl_company = input(\"Company Name: \").strip()\n",
        "cl_greeting = input(\"Salutation (e.g., Dear Hiring Manager): \").strip()\n",
        "print(\"Cover Letter Body (write paragraph, press Enter when done):\")\n",
        "cl_body = input().strip()\n",
        "cl_closing = input(\"Closing (e.g., Sincerely): \").strip()\n",
        "\n",
        "resume = {\n",
        "    'name': name,\n",
        "    'phone_no': phone_no,\n",
        "    'email': email,\n",
        "    'linkedin': linkedin,\n",
        "    'github': github,\n",
        "    'leetcode': leetcode,\n",
        "    'codeforces': codeforces,\n",
        "    'summary': summary,\n",
        "    'education': education,\n",
        "    'experience': experience,\n",
        "    'skills': [s.strip() for s in skills if s.strip()],\n",
        "    'extras': extras\n",
        "}\n",
        "\n",
        "cover_letter = {\n",
        "    'name': name,\n",
        "    'email': email,\n",
        "    'phone_no': phone_no,\n",
        "    'job_title': cl_job_title,\n",
        "    'company': cl_company,\n",
        "    'greeting': cl_greeting,\n",
        "    'body': cl_body,\n",
        "    'closing': cl_closing\n",
        "}"
      ],
      "metadata": {
        "colab": {
          "base_uri": "https://localhost:8080/"
        },
        "id": "U1jHDuMxywm0",
        "outputId": "c8e2f6f6-a3f1-46e4-ba54-5fee2f689a3d"
      },
      "execution_count": null,
      "outputs": [
        {
          "name": "stdout",
          "output_type": "stream",
          "text": [
            "\n",
            "===== ATS-Friendly Resume & Cover Letter Builder =====\n",
            "\n",
            "Full Name: Shishir Suman\n",
            "Phone No.: 9999999999\n",
            "Email: shishir@gmail.com\n",
            "LinkedIn URL: Shishir_Suman_123\n",
            "GitHub URL: ShishirSuman999\n",
            "LeetCode (or other coding profile) URL: Leetcode: suManiac_03\n",
            "Codeforces (or other platform) URL: \n",
            "Professional Summary: I am an experienced full stack developer, passionate about Data structures and algorithms, artificial intelligence and system design\n",
            "\n",
            "--- Education ---\n",
            "Degree (press Enter to stop): B. Tech\n",
            "Institution: ABES\n",
            "Duration (e.g., 2022–2026): 2022-2026\n",
            "Degree (press Enter to stop): Class 12\n",
            "Institution: GIS\n",
            "Duration (e.g., 2022–2026): 2021-2022\n",
            "Degree (press Enter to stop): Class 10\n",
            "Institution: GIS\n",
            "Duration (e.g., 2022–2026): 2019-2020\n",
            "Degree (press Enter to stop): \n",
            "\n",
            "--- Experience ---\n",
            "Job Title (press Enter to stop): Software Engineer Intern\n",
            "Company: ABC Technologies\n",
            "Duration (e.g., Jan 2021 – Present): Jan 2024-Jan 2025\n",
            "Responsibilities/Accomplishments (Enter blank line to stop):\n",
            "- Completed a 12-month internship in ABC Technologies as Software Engineer Intern.\n",
            "- Used industry-grade practices to build a capstone project.\n",
            "- \n",
            "Job Title (press Enter to stop): \n",
            "\n",
            "Skills (comma-separated): C, C++, Python, JAVA, HTML5, CSS3, Javascript, ReactJs, TailwindCSS, BootStrap5, NodeJs, ExpressJs, MongoDB, SQL, JWT Auth, Clerk Auth, DSA, OS, CN, DBMS, System Design\n",
            "\n",
            "--- Other Sections ---\n",
            "Section Title (Projects/Certifications) (press Enter to stop): Projects\n",
            "Add entries for Projects (Enter blank line to stop):\n",
            "- Weather Dashboard\n",
            "- Customer Segmentation Model\n",
            "- E-Commerce Website\n",
            "- \n",
            "Section Title (Projects/Certifications) (press Enter to stop): Certifications\n",
            "Add entries for Certifications (Enter blank line to stop):\n",
            "- Programming in C, C++\n",
            "- Python (Basics)\n",
            "- Problem Soving (Basic)\n",
            "- \n",
            "Section Title (Projects/Certifications) (press Enter to stop): Achievements\n",
            "Add entries for Achievements (Enter blank line to stop):\n",
            "- Solved 400+ problems on coding platforms\n",
            "- 3rd f the top 10 teams in Smart India Hackathon\n",
            "- Completed Data Analytics Job Simulation (Deloitte)\n",
            "- \n",
            "Section Title (Projects/Certifications) (press Enter to stop): \n",
            "\n",
            "===== Cover Letter Section =====\n",
            "Job Title you're applying for: Frontend Developer\n",
            "Company Name: InnovateX\n",
            "Salutation (e.g., Dear Hiring Manager): Sir,\n",
            "Cover Letter Body (write paragraph, press Enter when done):\n",
            "I was thrilled to learn of your Newsroom Internship Program on the Washington Post website. As an aspiring reporter with a focus on social justice, I appreciate not only the high quality of your reporting, but also your organization’s focus on giving back to the D.C. community at large. I am confident that my research experience, strong writing ability, and creativity will allow me to thrive in the internship program at the Post this summer. As a legal intern for the Orange County State’s Attorney, I used a variety of databases to conduct and organize legal research for our staff. My ability to sift through and condense large amounts of data in a fast-paced environment will be an asset to your office. I also developed particularly strong writing skills during my time at the University of Central Florida, having written several policy analyses papers for my government courses. Outside the classroom, my position as writer and editor for KnightsNews.com has allowed me to contribute weekly articles and help other staff members with their pieces. I am eager to employ my research and writing skills in a professional newsroom and believe that my experience producing informative pieces and meeting deadlines will serve your office well. My experience working as a server at the Applebee’s allowed me to enhance my creative problem-solving skills. In my role as a server, I developed a system to manage reservations, which was adopted to reduce customer wait time during peak hours. I also honed creative communication skills by balancing customer requests with availability of resources. I am confident I can apply my creativity to identify local stories of interest and assist your staff with information requests. Please find my resume attached, which details my qualifications for the position. If you have any questions, please do not hesitate to contact me and I look forward to discussing my qualifications with you personally. Thank you for your time and consideration. \n",
            "Closing (e.g., Sincerely): Yours sincerely,\n"
          ]
        }
      ]
    },
    {
      "cell_type": "markdown",
      "source": [
        "4. Generate PDF (ATS Friendly Layout)"
      ],
      "metadata": {
        "id": "ln64ubi0AC-b"
      }
    },
    {
      "cell_type": "code",
      "source": [
        "def create_resume_pdf(data):\n",
        "    buffer = io.BytesIO()\n",
        "    doc = SimpleDocTemplate(buffer, pagesize=letter,\n",
        "                            leftMargin=50, rightMargin=50,\n",
        "                            topMargin=50, bottomMargin=50)\n",
        "\n",
        "    styles = getSampleStyleSheet()\n",
        "    normal = styles[\"Normal\"]\n",
        "    normal.fontName = \"Helvetica\"\n",
        "    normal.fontSize = 10\n",
        "    normal.leading = 14\n",
        "\n",
        "    bold = ParagraphStyle('Bold', parent=normal, fontName='Helvetica-Bold')\n",
        "\n",
        "    story = []\n",
        "\n",
        "    # Header\n",
        "    story.append(Paragraph(f\"<b>{data['name']}</b>\", ParagraphStyle('Name', parent=bold, fontSize=16)))\n",
        "    story.append(Paragraph(f\"{data['email']} | {data['phone_no']}\", normal))\n",
        "    story.append(Spacer(1, 15))\n",
        "\n",
        "    links = []\n",
        "    if data.get('linkedin'): links.append(f\"<a href='{data['linkedin']}' color='blue'>LinkedIn</a>\")\n",
        "    if data.get('github'): links.append(f\"<a href='{data['github']}' color='blue'>GitHub</a>\")\n",
        "    if data.get('leetcode'): links.append(f\"<a href='{data['leetcode']}' color='blue'>LeetCode</a>\")\n",
        "    if data.get('codeforces'): links.append(f\"<a href='{data['codeforces']}' color='blue'>Codeforces</a>\")\n",
        "\n",
        "    if links:\n",
        "        story.append(Paragraph(\" | \".join(links), normal))\n",
        "\n",
        "    story.append(Spacer(1, 15))\n",
        "\n",
        "    def section_title(title):\n",
        "        story.append(Paragraph(f\"<b>{title}</b>\", bold))\n",
        "        story.append(HRFlowable(width=\"100%\", thickness=0.7, color=colors.black))\n",
        "        story.append(Spacer(1, 6))\n",
        "\n",
        "    # Summary\n",
        "    if data.get('summary'):\n",
        "        section_title(\"Professional Summary\")\n",
        "        story.append(Paragraph(data['summary'], normal))\n",
        "        story.append(Spacer(1, 12))\n",
        "\n",
        "    # Education\n",
        "    if data.get('education'):\n",
        "        section_title(\"Education\")\n",
        "        for edu in data['education']:\n",
        "            edu_text = f\"<b>{edu.get('degree','')}</b> | {edu.get('institution','')} | {edu.get('duration','')}\"\n",
        "            story.append(Paragraph(edu_text, normal))\n",
        "            story.append(Spacer(1, 6))\n",
        "        story.append(Spacer(1, 12))\n",
        "\n",
        "    # Experience\n",
        "    if data.get('experience'):\n",
        "        section_title(\"Experience\")\n",
        "        for exp in data['experience']:\n",
        "            job_text = f\"<b>{exp.get('job','')}</b> | {exp.get('company','')} | {exp.get('time','')}\"\n",
        "            story.append(Paragraph(job_text, normal))\n",
        "\n",
        "            if exp.get('desc'):\n",
        "                bullets = [ListItem(Paragraph(d, normal)) for d in exp['desc']]\n",
        "                story.append(ListFlowable(bullets, bulletType='bullet', leftIndent=20))\n",
        "            story.append(Spacer(1, 8))\n",
        "        story.append(Spacer(1, 12))\n",
        "\n",
        "    # Skills\n",
        "    if data.get('skills'):\n",
        "        section_title(\"Skills\")\n",
        "        story.append(Paragraph(\", \".join(data['skills']), normal))\n",
        "        story.append(Spacer(1, 12))\n",
        "\n",
        "    # Extras\n",
        "    for sec, items in data.get('extras', {}).items():\n",
        "        section_title(sec)\n",
        "        bullets = [ListItem(Paragraph(i, normal)) for i in items]\n",
        "        story.append(ListFlowable(bullets, bulletType='bullet', leftIndent=20))\n",
        "        story.append(Spacer(1, 12))\n",
        "\n",
        "    doc.build(story)\n",
        "    buffer.seek(0)\n",
        "    return buffer"
      ],
      "metadata": {
        "id": "fmBZjCnQy5nr"
      },
      "execution_count": null,
      "outputs": []
    },
    {
      "cell_type": "code",
      "source": [
        "def create_cover_letter_pdf(data):\n",
        "    buffer = io.BytesIO()\n",
        "    doc = SimpleDocTemplate(buffer, pagesize=letter,\n",
        "                            leftMargin=50, rightMargin=50,\n",
        "                            topMargin=50, bottomMargin=50)\n",
        "\n",
        "    styles = getSampleStyleSheet()\n",
        "    normal = styles[\"Normal\"]\n",
        "    normal.fontName = \"Helvetica\"\n",
        "    normal.fontSize = 11\n",
        "    normal.leading = 15\n",
        "    bold = ParagraphStyle('Bold', parent=normal, fontName='Helvetica-Bold')\n",
        "\n",
        "    story = []\n",
        "\n",
        "    # Header\n",
        "    story.append(Paragraph(f\"<b>{data['name']}</b>\", bold))\n",
        "    story.append(Paragraph(f\"{data['email']} | {data['phone_no']}\", normal))\n",
        "    story.append(HRFlowable(width=\"100%\", thickness=0.7, color=colors.black))\n",
        "    story.append(Spacer(1, 20))\n",
        "\n",
        "    # Date\n",
        "    story.append(Paragraph(datetime.now().strftime(\"%B %d, %Y\"), normal))\n",
        "    story.append(Spacer(1, 20))\n",
        "\n",
        "    # Company & Greeting\n",
        "    if data.get('company'):\n",
        "        story.append(Paragraph(data['company'], bold))\n",
        "        story.append(Spacer(1, 10))\n",
        "    if data.get('greeting'):\n",
        "        story.append(Paragraph(data['greeting'], normal))\n",
        "        story.append(Spacer(1, 15))\n",
        "\n",
        "    # Body (split paragraphs safely)\n",
        "    paragraphs = data['body'].split(\"\\n\\n\") if \"\\n\\n\" in data['body'] else [data['body']]\n",
        "    for para in paragraphs:\n",
        "        story.append(Paragraph(para.strip(), normal))\n",
        "        story.append(Spacer(1, 12))\n",
        "\n",
        "    # Closing\n",
        "    story.append(Spacer(1, 20))\n",
        "    story.append(Paragraph(data['closing'], normal))\n",
        "    story.append(Spacer(1, 10))\n",
        "    story.append(Paragraph(data['name'], normal))\n",
        "\n",
        "    doc.build(story)\n",
        "    buffer.seek(0)\n",
        "    return buffer"
      ],
      "metadata": {
        "id": "s6b6AuofzBsC"
      },
      "execution_count": null,
      "outputs": []
    },
    {
      "cell_type": "markdown",
      "source": [
        "7. Execution"
      ],
      "metadata": {
        "id": "-aIcpxlQAWMy"
      }
    },
    {
      "cell_type": "code",
      "source": [
        "resume_buf = create_resume_pdf(resume)\n",
        "with open(\"resume.pdf\", \"wb\") as f:\n",
        "    f.write(resume_buf.getvalue())\n",
        "\n",
        "cover_buf = create_cover_letter_pdf(cover_letter)\n",
        "with open(\"cover_letter.pdf\", \"wb\") as f:\n",
        "    f.write(cover_buf.getvalue())\n",
        "\n",
        "print(\"\\nGenerated: resume.pdf and cover_letter.pdf\")"
      ],
      "metadata": {
        "colab": {
          "base_uri": "https://localhost:8080/"
        },
        "id": "bjJhefKZzGuS",
        "outputId": "e1b6d1f9-673b-4daa-e6f7-d8f84590e054"
      },
      "execution_count": null,
      "outputs": [
        {
          "output_type": "stream",
          "name": "stdout",
          "text": [
            "\n",
            "Generated: resume.pdf and cover_letter.pdf\n"
          ]
        }
      ]
    },
    {
      "cell_type": "code",
      "source": [
        "from google.colab import files\n",
        "from google.colab import drive\n",
        "\n",
        "choice = input(\"\\nDo you want to download the files locally? (y/n): \").strip().lower()\n",
        "if choice == \"y\":\n",
        "    print(\"Please run the following in a new cell to download manually:\")\n",
        "    print(\"files.download('resume.pdf')\")\n",
        "    print(\"files.download('cover_letter.pdf')\")\n",
        "\n",
        "choice = input(\"\\nDo you want to save the files to Google Drive? (y/n): \").strip().lower()\n",
        "if choice == \"y\":\n",
        "    drive.mount('/content/drive')\n",
        "    !cp resume.pdf /content/drive/MyDrive/\n",
        "    !cp cover_letter.pdf /content/drive/MyDrive/\n",
        "    print(\"Files saved in your Google Drive (MyDrive folder).\")"
      ],
      "metadata": {
        "colab": {
          "base_uri": "https://localhost:8080/"
        },
        "id": "U6rhUyDr8uxa",
        "outputId": "6e091737-1c92-4108-ffca-3d3e5f326c20"
      },
      "execution_count": null,
      "outputs": [
        {
          "output_type": "stream",
          "name": "stdout",
          "text": [
            "\n",
            "Do you want to download the files locally? (y/n): y\n",
            "Please run the following in a new cell to download manually:\n",
            "files.download('resume.pdf')\n",
            "files.download('cover_letter.pdf')\n",
            "\n",
            "Do you want to save the files to Google Drive? (y/n): y\n",
            "Drive already mounted at /content/drive; to attempt to forcibly remount, call drive.mount(\"/content/drive\", force_remount=True).\n",
            "Files saved in your Google Drive (MyDrive folder).\n"
          ]
        }
      ]
    },
    {
      "cell_type": "code",
      "source": [
        "from google.colab import files\n",
        "files.download(\"resume.pdf\")\n",
        "files.download(\"cover_letter.pdf\")"
      ],
      "metadata": {
        "colab": {
          "base_uri": "https://localhost:8080/",
          "height": 17
        },
        "id": "Lk1rnk8k-knz",
        "outputId": "d9bfb8ef-d660-45ea-cb2e-efd077d7ce44"
      },
      "execution_count": null,
      "outputs": [
        {
          "output_type": "display_data",
          "data": {
            "text/plain": [
              "<IPython.core.display.Javascript object>"
            ],
            "application/javascript": [
              "\n",
              "    async function download(id, filename, size) {\n",
              "      if (!google.colab.kernel.accessAllowed) {\n",
              "        return;\n",
              "      }\n",
              "      const div = document.createElement('div');\n",
              "      const label = document.createElement('label');\n",
              "      label.textContent = `Downloading \"${filename}\": `;\n",
              "      div.appendChild(label);\n",
              "      const progress = document.createElement('progress');\n",
              "      progress.max = size;\n",
              "      div.appendChild(progress);\n",
              "      document.body.appendChild(div);\n",
              "\n",
              "      const buffers = [];\n",
              "      let downloaded = 0;\n",
              "\n",
              "      const channel = await google.colab.kernel.comms.open(id);\n",
              "      // Send a message to notify the kernel that we're ready.\n",
              "      channel.send({})\n",
              "\n",
              "      for await (const message of channel.messages) {\n",
              "        // Send a message to notify the kernel that we're ready.\n",
              "        channel.send({})\n",
              "        if (message.buffers) {\n",
              "          for (const buffer of message.buffers) {\n",
              "            buffers.push(buffer);\n",
              "            downloaded += buffer.byteLength;\n",
              "            progress.value = downloaded;\n",
              "          }\n",
              "        }\n",
              "      }\n",
              "      const blob = new Blob(buffers, {type: 'application/binary'});\n",
              "      const a = document.createElement('a');\n",
              "      a.href = window.URL.createObjectURL(blob);\n",
              "      a.download = filename;\n",
              "      div.appendChild(a);\n",
              "      a.click();\n",
              "      div.remove();\n",
              "    }\n",
              "  "
            ]
          },
          "metadata": {}
        },
        {
          "output_type": "display_data",
          "data": {
            "text/plain": [
              "<IPython.core.display.Javascript object>"
            ],
            "application/javascript": [
              "download(\"download_ac8c83b2-8921-4557-9343-8ba5027ddd48\", \"resume.pdf\", 3485)"
            ]
          },
          "metadata": {}
        },
        {
          "output_type": "display_data",
          "data": {
            "text/plain": [
              "<IPython.core.display.Javascript object>"
            ],
            "application/javascript": [
              "\n",
              "    async function download(id, filename, size) {\n",
              "      if (!google.colab.kernel.accessAllowed) {\n",
              "        return;\n",
              "      }\n",
              "      const div = document.createElement('div');\n",
              "      const label = document.createElement('label');\n",
              "      label.textContent = `Downloading \"${filename}\": `;\n",
              "      div.appendChild(label);\n",
              "      const progress = document.createElement('progress');\n",
              "      progress.max = size;\n",
              "      div.appendChild(progress);\n",
              "      document.body.appendChild(div);\n",
              "\n",
              "      const buffers = [];\n",
              "      let downloaded = 0;\n",
              "\n",
              "      const channel = await google.colab.kernel.comms.open(id);\n",
              "      // Send a message to notify the kernel that we're ready.\n",
              "      channel.send({})\n",
              "\n",
              "      for await (const message of channel.messages) {\n",
              "        // Send a message to notify the kernel that we're ready.\n",
              "        channel.send({})\n",
              "        if (message.buffers) {\n",
              "          for (const buffer of message.buffers) {\n",
              "            buffers.push(buffer);\n",
              "            downloaded += buffer.byteLength;\n",
              "            progress.value = downloaded;\n",
              "          }\n",
              "        }\n",
              "      }\n",
              "      const blob = new Blob(buffers, {type: 'application/binary'});\n",
              "      const a = document.createElement('a');\n",
              "      a.href = window.URL.createObjectURL(blob);\n",
              "      a.download = filename;\n",
              "      div.appendChild(a);\n",
              "      a.click();\n",
              "      div.remove();\n",
              "    }\n",
              "  "
            ]
          },
          "metadata": {}
        },
        {
          "output_type": "display_data",
          "data": {
            "text/plain": [
              "<IPython.core.display.Javascript object>"
            ],
            "application/javascript": [
              "download(\"download_c0f83f93-9933-4fc8-8a5a-80045f713d35\", \"cover_letter.pdf\", 3114)"
            ]
          },
          "metadata": {}
        }
      ]
    },
    {
      "cell_type": "markdown",
      "source": [
        "# CHALLENGES AND SOLUTIONS\n",
        "### Challenge 1:\n",
        "Collecting Structured User Input in a CLI-Based Environment\n",
        "\n",
        "### Solution:\n",
        "Implemented loop-based prompts for flexible sections such as Education and Experience.\n",
        "\n",
        "Allowed users to press 'Enter' to exit sections cleanly.\n",
        "\n",
        "Grouped inputs logically (Summary → Education → Experience) for smoother flow.\n",
        "\n",
        "### Challenge 2:\n",
        "Designing a Professionally Formatted PDF\n",
        "\n",
        "### Solution:\n",
        "Used drawString() and y-position tracking for precise vertical spacing.\n",
        "\n",
        "Modularized each section (Summary, Education, Skills, etc.) for easier rendering and dynamic content handling.\n",
        "\n",
        "### Challenge 3:\n",
        "Uploading Files to Google Drive\n",
        "\n",
        "### Solution:\n",
        "Used google.colab.auth for seamless authentication.\n",
        "\n",
        "Checked for (or created) a folder named MyResumeCVs.\n",
        "\n",
        "Uploaded PDFs and JPGs with correct MIME types using the Drive API.\n",
        "\n",
        "### Challenge 4:\n",
        "Downloading Files from Google Colab\n",
        "\n",
        "### Solution:\n",
        "Used files.download() to trigger downloads within the notebook.\n",
        "\n",
        "Displayed clear instructions and messages post-generation.\n",
        "\n",
        "### Challenge 5: Error Handling & Fallbacks\n",
        "\n",
        "### Solution:\n",
        "Wrapped file uploads and in try-except blocks.\n",
        "\n",
        "Printed fallback messages to guide the user without terminating execution."
      ],
      "metadata": {
        "id": "Vpnm5a5rAcOb"
      }
    }
  ]
}