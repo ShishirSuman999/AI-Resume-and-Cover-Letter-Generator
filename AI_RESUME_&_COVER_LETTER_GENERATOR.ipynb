{
  "nbformat": 4,
  "nbformat_minor": 0,
  "metadata": {
    "colab": {
      "provenance": [],
      "authorship_tag": "ABX9TyMc8GgNWefn87RnN7YH5sAs",
      "include_colab_link": true
    },
    "kernelspec": {
      "name": "python3",
      "display_name": "Python 3"
    },
    "language_info": {
      "name": "python"
    }
  },
  "cells": [
    {
      "cell_type": "markdown",
      "metadata": {
        "id": "view-in-github",
        "colab_type": "text"
      },
      "source": [
        "<a href=\"https://colab.research.google.com/github/ShishirSuman999/AI-Resume-and-Cover-Letter-Generator/blob/main/AI_RESUME_%26_COVER_LETTER_GENERATOR.ipynb\" target=\"_parent\"><img src=\"https://colab.research.google.com/assets/colab-badge.svg\" alt=\"Open In Colab\"/></a>"
      ]
    },
    {
      "cell_type": "markdown",
      "source": [
        "# PROJECT DESCRIPTION\n",
        "### Project Title :-\n",
        "AI-Powered Resume & Cover Letter Generator\n",
        "\n",
        "### Objective :-\n",
        "This project enables users to generate Resumes and Cover Letters by inputting their details into an interactive form directly within Google Colab. The generated documents can be automatically saved to the user’s Google Drive. By leveraging AI for content generation, this tool enhances personalization and efficiency while ensuring data privacy and user-friendliness through Colab integration.\n",
        "\n",
        "### Features :-\n",
        "-> Interactive User Input: Utilizes Colab forms to guide users through data entry.\n",
        "\n",
        "-> AI Powered: Uses natural language generation to create well-structured resume content from minimal user information (personal info, education, work experience, skills, and some extra sections (projects, awards, etc.)).\n",
        "\n",
        "-> Supports both simple and styled (fancy) PDF templates.\n",
        "\n",
        "-> Google Drive Integration: Saves the generated files directly to the user's Drive.\n",
        "\n",
        "-> Allows download of generated files in PDF format.\n",
        "\n",
        "-> No manual coding needed by end-users.\n",
        "\n",
        "### Use Cases :-\n",
        "-> Students and job seekers looking for a fast, customizable resume builder without needing design skills.\n",
        "\n",
        "-> Individuals without access to premium tools like Canva, Overleaf, or Microsoft Word.\n",
        "\n",
        "-> Users who want to add a profile photo and download their resume as an image for use on platforms like LinkedIn or job portals."
      ],
      "metadata": {
        "id": "6ZRvPPltG778"
      }
    },
    {
      "cell_type": "markdown",
      "source": [
        "# CODE\n",
        "\n",
        "1. Install required libraries"
      ],
      "metadata": {
        "id": "H2Gv-_3BIsZK"
      }
    },
    {
      "cell_type": "code",
      "source": [
        "!pip install --quiet google-api-python-client google-auth-httplib2 google-auth-oauthlib reportlab pillow"
      ],
      "metadata": {
        "id": "vhhTA4FkMvXs"
      },
      "execution_count": null,
      "outputs": []
    },
    {
      "cell_type": "markdown",
      "source": [
        "2. Import dependencies"
      ],
      "metadata": {
        "id": "vf8wqXhtIzHV"
      }
    },
    {
      "cell_type": "code",
      "source": [
        "from google.colab import auth, files\n",
        "from googleapiclient.discovery import build\n",
        "from googleapiclient.http import MediaFileUpload\n",
        "from reportlab.lib.pagesizes import letter\n",
        "from reportlab.pdfgen import canvas\n",
        "import io\n",
        "import os"
      ],
      "metadata": {
        "id": "SBsU6FSjM6Wc"
      },
      "execution_count": null,
      "outputs": []
    },
    {
      "cell_type": "markdown",
      "source": [
        "3. Collect Information / Details"
      ],
      "metadata": {
        "id": "3v-lxym-I4hq"
      }
    },
    {
      "cell_type": "code",
      "source": [
        "print(\"\\n===== ATS-Friendly Resume & Cover Letter Builder =====\\n\")\n",
        "\n",
        "# === Resume Input ===\n",
        "name = input(\"Full Name: \")\n",
        "phone_no = input(\"Phone No.: \")\n",
        "email = input(\"Email: \")\n",
        "summary = input(\"Professional Summary: \")\n",
        "\n",
        "print(\"\\nAbout Education ->\")\n",
        "education = []\n",
        "while True:\n",
        "    degree = input(\"Enter degree (or press Enter to stop): \")\n",
        "    if not degree:\n",
        "        break\n",
        "    institution = input(\"Enter institution: \")\n",
        "    duration = input(\"Enter duration (e.g. 2020–2024): \")\n",
        "    education.append({\n",
        "        'degree': degree,\n",
        "        'institution': institution,\n",
        "        'duration': duration\n",
        "    })\n",
        "\n",
        "print(\"\\nAbout Experience ->\")\n",
        "experience = []\n",
        "while True:\n",
        "    job = input(\"Enter job title (or press Enter to stop): \")\n",
        "    if not job:\n",
        "        break\n",
        "    company = input(\"Enter company: \")\n",
        "    time = input(\"Enter duration (e.g. Jan 2021 – Present): \")\n",
        "    descs = []\n",
        "    print(\"Describe your responsibilities/accomplishments (press Enter on blank line to finish):\")\n",
        "    while True:\n",
        "        desc = input(\"- \")\n",
        "        if not desc:\n",
        "            break\n",
        "        descs.append(desc)\n",
        "    experience.append({\n",
        "        'job': job,\n",
        "        'company': company,\n",
        "        'time': time,\n",
        "        'desc': descs\n",
        "    })\n",
        "\n",
        "print(\"\\nAbout Skills ->\")\n",
        "skills = input(\"Your skills (comma-separated): \").split(',')\n",
        "\n",
        "print(\"\\nAbout any other Sections (Projects, Certifications, etc.) ->\")\n",
        "extras = {}\n",
        "while True:\n",
        "    section = input(\"Section Title (or press Enter to stop): \")\n",
        "    if not section:\n",
        "        break\n",
        "    content = []\n",
        "    print(f\"Add entries under '{section}' (press Enter to finish):\")\n",
        "    while True:\n",
        "        item = input()\n",
        "        if not item:\n",
        "            break\n",
        "        content.append(item)\n",
        "    extras[section] = content\n",
        "\n",
        "upload_drive = input(\"\\nUpload to Google Drive? (yes/no): \").strip().lower() == 'yes'\n",
        "fancy = input(\"Use formatted layout (recommended)? (yes/no): \").strip().lower() == 'yes'\n",
        "\n",
        "# === Cover Letter Input ===\n",
        "print(\"\\n===== Cover Letter Section =====\")\n",
        "cl_job_title = input(\"Job Title you're applying for: \")\n",
        "cl_company = input(\"Company Name: \")\n",
        "cl_greeting = input(\"Salutation (e.g. Dear Hiring Manager): \")\n",
        "cl_body = input(\"Core Cover Letter Content (write a main paragraph or copy-paste):\\n\")\n",
        "cl_closing = input(\"Closing Line (e.g. Sincerely, Best Regards): \")\n",
        "\n",
        "resume = {\n",
        "    'name': name,\n",
        "    'phone_no': phone_no,\n",
        "    'email': email,\n",
        "    'summary': summary,\n",
        "    'education': education,\n",
        "    'experience': experience,\n",
        "    'skills': skills,\n",
        "    'extras': extras\n",
        "}\n",
        "\n",
        "cover_letter = {\n",
        "    'name': name,\n",
        "    'email': email,\n",
        "    'phone_no': phone_no,\n",
        "    'job_title': cl_job_title,\n",
        "    'company': cl_company,\n",
        "    'greeting': cl_greeting,\n",
        "    'body': cl_body,\n",
        "    'closing': cl_closing\n",
        "}"
      ],
      "metadata": {
        "colab": {
          "base_uri": "https://localhost:8080/"
        },
        "id": "z3hz_DRONo9s",
        "outputId": "6ed47dd0-93e5-412a-ce4d-9adfc3019a74"
      },
      "execution_count": null,
      "outputs": [
        {
          "name": "stdout",
          "output_type": "stream",
          "text": [
            "\n",
            "===== ATS-Friendly Resume & Cover Letter Builder =====\n",
            "\n",
            "Full Name: Shishir Suman\n",
            "Phone No.: 7840053620\n",
            "Email: shishirnemo1@gmail.com\n",
            "Professional Summary: Experienced frontend engineer passionate about UI/UX design, data structurs, operaring systems and database management systems\n",
            "\n",
            "About Education ->\n",
            "Enter degree (or press Enter to stop): B. Tech. in CSE | ABES Engineering College | 2022-2026\n",
            "Enter institution: \n",
            "Enter duration (e.g. 2020–2024): \n",
            "Enter degree (or press Enter to stop): Class 12th | Gaur's International School | 2021\n",
            "Enter institution: \n",
            "Enter duration (e.g. 2020–2024): \n",
            "Enter degree (or press Enter to stop): \n",
            "\n",
            "About Experience ->\n",
            "Enter job title (or press Enter to stop): Frontend Developer Intern | ABC Technologies | Feb 2024 - Present\n",
            "Enter company: \n",
            "Enter duration (e.g. Jan 2021 – Present): \n",
            "Describe your responsibilities/accomplishments (press Enter on blank line to finish):\n",
            "- \n",
            "Enter job title (or press Enter to stop): \n",
            "\n",
            "About Skills ->\n",
            "Your skills (comma-separated): React, HTML, CSS, JS, TailwindCSS, Github\n",
            "\n",
            "About any other Sections (Projects, Certifications, etc.) ->\n",
            "Section Title (or press Enter to stop): Projects\n",
            "Add entries under 'Projects' (press Enter to finish):\n",
            "E-Portfolio\n",
            "Weather Dashboard\n",
            "E-Commerce Website\n",
            "RAG Chatbot\n",
            "\n",
            "Section Title (or press Enter to stop): Certifications\n",
            "Add entries under 'Certifications' (press Enter to finish):\n",
            "Programming in c++\n",
            "Basics of Python\n",
            "HTML, CSS, JS - The Language\n",
            "Problem Solving (Basic)\n",
            "\n",
            "Section Title (or press Enter to stop): \n",
            "\n",
            "Upload to Google Drive? (yes/no): yes\n",
            "Use formatted layout (recommended)? (yes/no): yes\n",
            "\n",
            "===== Cover Letter Section =====\n",
            "Job Title you're applying for: Frontend Developer\n",
            "Company Name: InnovateX\n",
            "Salutation (e.g. Dear Hiring Manager): Dear Hiring Manager\n",
            "Core Cover Letter Content (write a main paragraph or copy-paste):\n",
            "I was thrilled to learn of your Newsroom Internship Program on the Washington Post website. As an aspiring reporter with a focus on social justice, I appreciate not only the high quality of your reporting, but also your organization’s focus on giving back to the D.C. community at large. I am confident that my research experience, strong writing ability, and creativity will allow me to thrive in the internship program at the Post this summer. As a legal intern for the Orange County State’s Attorney, I used a variety of databases to conduct and organize legal research for our staff. My ability to sift through and condense large amounts of data in a fast-paced environment will be an asset to your office. I also developed particularly strong writing skills during my time at the University of Central Florida, having written several policy analyses papers for my government courses. Outside the classroom, my position as writer and editor for KnightsNews.com has allowed me to contribute weekly articles and help other staff members with their pieces. I am eager to employ my research and writing skills in a professional newsroom and believe that my experience producing informative pieces and meeting deadlines will serve your office well. My experience working as a server at the Applebee’s allowed me to enhance my creative problem-solving skills. In my role as a server, I developed a system to manage reservations, which was adopted to reduce customer wait time during peak hours. I also honed creative communication skills by balancing customer requests with availability of resources. I am confident I can apply my creativity to identify local stories of interest and assist your staff with information requests. Please find my resume attached, which details my qualifications for the position. If you have any questions, please do not hesitate to contact me and I look forward to discussing my qualifications with you personally. Thank you for your time and consideration.\n",
            "Closing Line (e.g. Sincerely, Best Regards): Sincerely\n"
          ]
        }
      ]
    },
    {
      "cell_type": "markdown",
      "source": [
        "4. Format resume content to text"
      ],
      "metadata": {
        "id": "nKwhacxYI9iw"
      }
    },
    {
      "cell_type": "code",
      "source": [
        "def render_text(data):\n",
        "    lines = [f\"{data['name']}\", f\"{data['phone_no']}\", f\"{data['email']}\", \"\", \"PROFESSIONAL SUMMARY\", data['summary'], \"\", \"EDUCATION\"]\n",
        "    for edu in data['education']:\n",
        "        lines.append(f\"{edu['degree']} | {edu['institution']} | {edu['duration']}\")\n",
        "    lines.append(\"\\nEXPERIENCE\")\n",
        "    for exp in data['experience']:\n",
        "        lines.append(f\"{exp['job']} | {exp['company']} | {exp['time']}\")\n",
        "        for point in exp['desc']:\n",
        "            lines.append(f\"- {point}\")\n",
        "    lines.append(\"\\nSKILLS\")\n",
        "    lines.append(', '.join([s.strip() for s in data['skills']]))\n",
        "    for sec, items in data['extras'].items():\n",
        "        lines.append(f\"\\n{sec.upper()}\")\n",
        "        for i in items:\n",
        "            lines.append(f\"- {i}\")\n",
        "    return '\\n'.join(lines)"
      ],
      "metadata": {
        "id": "sjonxgH9PJAl"
      },
      "execution_count": null,
      "outputs": []
    },
    {
      "cell_type": "markdown",
      "source": [
        "5. Generate PDF (ATS Friendly Layout)"
      ],
      "metadata": {
        "id": "hQxVaDu-JDiv"
      }
    },
    {
      "cell_type": "code",
      "source": [
        "def create_resume_pdf(data, fancy=False):\n",
        "    buffer = io.BytesIO()\n",
        "    pdf = canvas.Canvas(buffer, pagesize=letter)\n",
        "    if fancy:\n",
        "        y = 770\n",
        "\n",
        "        def section_title(text):\n",
        "            nonlocal y\n",
        "            pdf.setFont(\"Helvetica-Bold\", 11)\n",
        "            pdf.drawString(50, y, text.upper())\n",
        "            y -= 16\n",
        "\n",
        "        def draw_line(text, indent=0):\n",
        "            nonlocal y\n",
        "            pdf.setFont(\"Helvetica\", 10)\n",
        "            pdf.drawString(50 + indent, y, text)\n",
        "            y -= 14\n",
        "\n",
        "        # Header\n",
        "        pdf.setFont(\"Helvetica-Bold\", 16)\n",
        "        pdf.drawString(50, y, data.get('name', ''))\n",
        "        y -= 20\n",
        "        pdf.setFont(\"Helvetica\", 10)\n",
        "        pdf.drawString(50, y, f\"{data.get('email','')} | {data.get('phone_no','')}\")\n",
        "        y -= 30\n",
        "\n",
        "        # Summary\n",
        "        if data.get('summary'):\n",
        "            section_title(\"Professional Summary\")\n",
        "            for line in data['summary'].split('\\n'):\n",
        "                draw_line(line)\n",
        "            y -= 10\n",
        "\n",
        "        # Education\n",
        "        if data.get('education'):\n",
        "            section_title(\"Education\")\n",
        "            for edu in data['education']:\n",
        "                draw_line(f\"{edu.get('degree','')} | {edu.get('institution','')} | {edu.get('duration','')}\")\n",
        "            y -= 10\n",
        "\n",
        "        # Experience\n",
        "        if data.get('experience'):\n",
        "            section_title(\"Experience\")\n",
        "            for exp in data['experience']:\n",
        "                draw_line(f\"{exp.get('job','')} | {exp.get('company','')} | {exp.get('time','')}\")\n",
        "                for pt in exp.get('desc', []):\n",
        "                    draw_line(f\"- {pt}\", indent=20)\n",
        "            y -= 10\n",
        "\n",
        "        # Skills\n",
        "        if data.get('skills'):\n",
        "            section_title(\"Skills\")\n",
        "            skills_line = ', '.join(s.strip() for s in data['skills'])\n",
        "            draw_line(skills_line)\n",
        "            y -= 10\n",
        "\n",
        "        # Extras\n",
        "        if data.get('extras'):\n",
        "            for sec, items in data['extras'].items():\n",
        "                section_title(sec)\n",
        "                for i in items:\n",
        "                    draw_line(f\"- {i}\", indent=10)\n",
        "                y -= 10\n",
        "\n",
        "    else:\n",
        "        # Plain text fallback\n",
        "        text = pdf.beginText(50, 770)\n",
        "        text.setFont(\"Helvetica\", 10)\n",
        "        txt = f\"{data['name']}\\n{data['email']} | {data['phone_no']}\\n\\nSUMMARY\\n{data['summary']}\\n\\n\"\n",
        "        txt += \"EDUCATION\\n\"\n",
        "        for edu in data['education']:\n",
        "            txt += f\"{edu.get('degree','')} | {edu.get('institution','')} | {edu.get('duration','')}\\n\"\n",
        "        txt += \"\\nEXPERIENCE\\n\"\n",
        "        for exp in data['experience']:\n",
        "            txt += f\"{exp.get('job','')} | {exp.get('company','')} | {exp.get('time','')}\\n\"\n",
        "            for pt in exp.get('desc', []):\n",
        "                txt += f\"- {pt}\\n\"\n",
        "        txt += \"\\nSKILLS\\n\" + ', '.join([s.strip() for s in data['skills']]) + '\\n'\n",
        "        for sec, items in data['extras'].items():\n",
        "            txt += f\"\\n{sec.upper()}\\n\"\n",
        "            for i in items:\n",
        "                txt += f\"- {i}\\n\"\n",
        "        text.textLines(txt)\n",
        "        pdf.drawText(text)\n",
        "\n",
        "    pdf.save()\n",
        "    buffer.seek(0)\n",
        "    return buffer"
      ],
      "metadata": {
        "id": "0SJ7TKOEPOj1"
      },
      "execution_count": null,
      "outputs": []
    },
    {
      "cell_type": "code",
      "source": [
        "def create_cover_letter_pdf(data):\n",
        "    buffer = io.BytesIO()\n",
        "    pdf = canvas.Canvas(buffer, pagesize=letter)\n",
        "    y = 770\n",
        "    pdf.setFont(\"Helvetica\", 10)\n",
        "    pdf.drawString(50, y, data.get('name',''))\n",
        "    y -= 15\n",
        "    pdf.drawString(50, y, data.get('email','') + \" | \" + data.get('phone_no',''))\n",
        "    y -= 30\n",
        "\n",
        "    # Date & Recipient\n",
        "    from datetime import datetime\n",
        "    pdf.drawString(50, y, datetime.now().strftime(\"%B %d, %Y\"))\n",
        "    y -= 20\n",
        "    pdf.drawString(50, y, data.get('company',''))\n",
        "    y -= 20\n",
        "\n",
        "    # Greeting\n",
        "    pdf.drawString(50, y, data.get('greeting',''))\n",
        "    y -= 25\n",
        "\n",
        "    # Body\n",
        "    for line in data.get('body','').split('\\n'):\n",
        "        pdf.drawString(50, y, line)\n",
        "        y -= 15\n",
        "\n",
        "    y -= 15\n",
        "    # Closing\n",
        "    pdf.drawString(50, y, data.get('closing',''))\n",
        "    y -= 15\n",
        "    pdf.drawString(50, y, data.get('name',''))\n",
        "\n",
        "    pdf.save()\n",
        "    buffer.seek(0)\n",
        "    return buffer"
      ],
      "metadata": {
        "id": "NhP8wlU4Xi96"
      },
      "execution_count": null,
      "outputs": []
    },
    {
      "cell_type": "markdown",
      "source": [
        "6. Upload to Google Drive"
      ],
      "metadata": {
        "id": "T3g9fH2AJHbS"
      }
    },
    {
      "cell_type": "code",
      "source": [
        "def upload_to_drive(filepath, folder=\"MyResumeCVs\"):\n",
        "    try:\n",
        "        auth.authenticate_user()\n",
        "        service = build('drive', 'v3')\n",
        "        results = service.files().list(q=f\"name='{folder}' and mimeType='application/vnd.google-apps.folder'\",\n",
        "                                       spaces='drive', fields='files(id)').execute()\n",
        "        folder_id = results['files'][0]['id'] if results['files'] else None\n",
        "\n",
        "        if not folder_id:\n",
        "            metadata = {'name': folder, 'mimeType': 'application/vnd.google-apps.folder'}\n",
        "            file = service.files().create(body=metadata, fields='id').execute()\n",
        "            folder_id = file['id']\n",
        "\n",
        "        file_metadata = {'name': os.path.basename(filepath), 'parents': [folder_id]}\n",
        "        media = MediaFileUpload(filepath, resumable=True)\n",
        "        uploaded = service.files().create(body=file_metadata, media_body=media, fields='id').execute()\n",
        "        print(f\"Uploaded {filepath} to Drive.\")\n",
        "    except Exception as e:\n",
        "        print(f\"Drive upload error: {e}\")"
      ],
      "metadata": {
        "id": "LGWbLRwVPTFF"
      },
      "execution_count": null,
      "outputs": []
    },
    {
      "cell_type": "markdown",
      "source": [
        "7. Execution"
      ],
      "metadata": {
        "id": "9FHXPlHbJLCE"
      }
    },
    {
      "cell_type": "code",
      "source": [
        "resume_buf = create_resume_pdf(resume, fancy=fancy)\n",
        "with open(\"resume.pdf\", \"wb\") as f:\n",
        "    f.write(resume_buf.getvalue())\n",
        "print(\"\\nResume generated: resume.pdf\")\n",
        "\n",
        "cover_buf = create_cover_letter_pdf(cover_letter)\n",
        "with open(\"cover_letter.pdf\", \"wb\") as f:\n",
        "    f.write(cover_buf.getvalue())\n",
        "print(\"Cover letter generated: cover_letter.pdf\")"
      ],
      "metadata": {
        "colab": {
          "base_uri": "https://localhost:8080/"
        },
        "id": "S1yaVZ3NPV8L",
        "outputId": "4548c19d-2f42-4cdb-d2da-f21c019caa1f"
      },
      "execution_count": null,
      "outputs": [
        {
          "output_type": "stream",
          "name": "stdout",
          "text": [
            "\n",
            "Resume generated: resume.pdf\n",
            "Cover letter generated: cover_letter.pdf\n"
          ]
        }
      ]
    },
    {
      "cell_type": "code",
      "source": [
        "if input(\"Download PDF? (yes/no): \").lower() == 'yes':\n",
        "    files.download(\"resume.pdf\")"
      ],
      "metadata": {
        "colab": {
          "base_uri": "https://localhost:8080/",
          "height": 34
        },
        "id": "PQKYxe6PQo7g",
        "outputId": "78ca2bf7-fcd2-42ee-ee61-53eced065adc"
      },
      "execution_count": null,
      "outputs": [
        {
          "name": "stdout",
          "output_type": "stream",
          "text": [
            "Download PDF? (yes/no): yes\n"
          ]
        },
        {
          "output_type": "display_data",
          "data": {
            "text/plain": [
              "<IPython.core.display.Javascript object>"
            ],
            "application/javascript": [
              "\n",
              "    async function download(id, filename, size) {\n",
              "      if (!google.colab.kernel.accessAllowed) {\n",
              "        return;\n",
              "      }\n",
              "      const div = document.createElement('div');\n",
              "      const label = document.createElement('label');\n",
              "      label.textContent = `Downloading \"${filename}\": `;\n",
              "      div.appendChild(label);\n",
              "      const progress = document.createElement('progress');\n",
              "      progress.max = size;\n",
              "      div.appendChild(progress);\n",
              "      document.body.appendChild(div);\n",
              "\n",
              "      const buffers = [];\n",
              "      let downloaded = 0;\n",
              "\n",
              "      const channel = await google.colab.kernel.comms.open(id);\n",
              "      // Send a message to notify the kernel that we're ready.\n",
              "      channel.send({})\n",
              "\n",
              "      for await (const message of channel.messages) {\n",
              "        // Send a message to notify the kernel that we're ready.\n",
              "        channel.send({})\n",
              "        if (message.buffers) {\n",
              "          for (const buffer of message.buffers) {\n",
              "            buffers.push(buffer);\n",
              "            downloaded += buffer.byteLength;\n",
              "            progress.value = downloaded;\n",
              "          }\n",
              "        }\n",
              "      }\n",
              "      const blob = new Blob(buffers, {type: 'application/binary'});\n",
              "      const a = document.createElement('a');\n",
              "      a.href = window.URL.createObjectURL(blob);\n",
              "      a.download = filename;\n",
              "      div.appendChild(a);\n",
              "      a.click();\n",
              "      div.remove();\n",
              "    }\n",
              "  "
            ]
          },
          "metadata": {}
        },
        {
          "output_type": "display_data",
          "data": {
            "text/plain": [
              "<IPython.core.display.Javascript object>"
            ],
            "application/javascript": [
              "download(\"download_85b8c87a-990f-4d0b-98e8-b8397e86ca66\", \"resume.pdf\", 2228)"
            ]
          },
          "metadata": {}
        }
      ]
    },
    {
      "cell_type": "code",
      "source": [
        "if input(\"Download Resume PDF? (yes/no): \").strip().lower() == 'yes':\n",
        "    files.download(\"resume.pdf\")\n",
        "if input(\"Download Cover Letter PDF? (yes/no): \").strip().lower() == 'yes':\n",
        "    files.download(\"cover_letter.pdf\")\n",
        "if upload_drive:\n",
        "    upload_to_drive(\"resume.pdf\")\n",
        "    upload_to_drive(\"cover_letter.pdf\")\n",
        "\n",
        "print(\"\\nATS-Compatible Resume and Cover Letter Generated Successfully.\")"
      ],
      "metadata": {
        "id": "EKoODO7lQJ7B",
        "colab": {
          "base_uri": "https://localhost:8080/",
          "height": 121
        },
        "outputId": "6dfea4d8-279e-4627-e5a5-492459d3bfd6"
      },
      "execution_count": null,
      "outputs": [
        {
          "name": "stdout",
          "output_type": "stream",
          "text": [
            "Download Resume PDF? (yes/no): yes\n"
          ]
        },
        {
          "output_type": "display_data",
          "data": {
            "text/plain": [
              "<IPython.core.display.Javascript object>"
            ],
            "application/javascript": [
              "\n",
              "    async function download(id, filename, size) {\n",
              "      if (!google.colab.kernel.accessAllowed) {\n",
              "        return;\n",
              "      }\n",
              "      const div = document.createElement('div');\n",
              "      const label = document.createElement('label');\n",
              "      label.textContent = `Downloading \"${filename}\": `;\n",
              "      div.appendChild(label);\n",
              "      const progress = document.createElement('progress');\n",
              "      progress.max = size;\n",
              "      div.appendChild(progress);\n",
              "      document.body.appendChild(div);\n",
              "\n",
              "      const buffers = [];\n",
              "      let downloaded = 0;\n",
              "\n",
              "      const channel = await google.colab.kernel.comms.open(id);\n",
              "      // Send a message to notify the kernel that we're ready.\n",
              "      channel.send({})\n",
              "\n",
              "      for await (const message of channel.messages) {\n",
              "        // Send a message to notify the kernel that we're ready.\n",
              "        channel.send({})\n",
              "        if (message.buffers) {\n",
              "          for (const buffer of message.buffers) {\n",
              "            buffers.push(buffer);\n",
              "            downloaded += buffer.byteLength;\n",
              "            progress.value = downloaded;\n",
              "          }\n",
              "        }\n",
              "      }\n",
              "      const blob = new Blob(buffers, {type: 'application/binary'});\n",
              "      const a = document.createElement('a');\n",
              "      a.href = window.URL.createObjectURL(blob);\n",
              "      a.download = filename;\n",
              "      div.appendChild(a);\n",
              "      a.click();\n",
              "      div.remove();\n",
              "    }\n",
              "  "
            ]
          },
          "metadata": {}
        },
        {
          "output_type": "display_data",
          "data": {
            "text/plain": [
              "<IPython.core.display.Javascript object>"
            ],
            "application/javascript": [
              "download(\"download_beb5c657-26a8-41e6-af35-86b8a0995719\", \"resume.pdf\", 2228)"
            ]
          },
          "metadata": {}
        },
        {
          "name": "stdout",
          "output_type": "stream",
          "text": [
            "Download Cover Letter PDF? (yes/no): yes\n"
          ]
        },
        {
          "output_type": "display_data",
          "data": {
            "text/plain": [
              "<IPython.core.display.Javascript object>"
            ],
            "application/javascript": [
              "\n",
              "    async function download(id, filename, size) {\n",
              "      if (!google.colab.kernel.accessAllowed) {\n",
              "        return;\n",
              "      }\n",
              "      const div = document.createElement('div');\n",
              "      const label = document.createElement('label');\n",
              "      label.textContent = `Downloading \"${filename}\": `;\n",
              "      div.appendChild(label);\n",
              "      const progress = document.createElement('progress');\n",
              "      progress.max = size;\n",
              "      div.appendChild(progress);\n",
              "      document.body.appendChild(div);\n",
              "\n",
              "      const buffers = [];\n",
              "      let downloaded = 0;\n",
              "\n",
              "      const channel = await google.colab.kernel.comms.open(id);\n",
              "      // Send a message to notify the kernel that we're ready.\n",
              "      channel.send({})\n",
              "\n",
              "      for await (const message of channel.messages) {\n",
              "        // Send a message to notify the kernel that we're ready.\n",
              "        channel.send({})\n",
              "        if (message.buffers) {\n",
              "          for (const buffer of message.buffers) {\n",
              "            buffers.push(buffer);\n",
              "            downloaded += buffer.byteLength;\n",
              "            progress.value = downloaded;\n",
              "          }\n",
              "        }\n",
              "      }\n",
              "      const blob = new Blob(buffers, {type: 'application/binary'});\n",
              "      const a = document.createElement('a');\n",
              "      a.href = window.URL.createObjectURL(blob);\n",
              "      a.download = filename;\n",
              "      div.appendChild(a);\n",
              "      a.click();\n",
              "      div.remove();\n",
              "    }\n",
              "  "
            ]
          },
          "metadata": {}
        },
        {
          "output_type": "display_data",
          "data": {
            "text/plain": [
              "<IPython.core.display.Javascript object>"
            ],
            "application/javascript": [
              "download(\"download_42790849-6776-4ccb-9f86-70ab533e558b\", \"cover_letter.pdf\", 2769)"
            ]
          },
          "metadata": {}
        },
        {
          "output_type": "stream",
          "name": "stdout",
          "text": [
            "Uploaded resume.pdf to Drive.\n",
            "Uploaded cover_letter.pdf to Drive.\n",
            "\n",
            "ATS-Compatible Resume and Cover Letter Generated Successfully.\n"
          ]
        }
      ]
    },
    {
      "cell_type": "markdown",
      "source": [
        "# CHALLENGES AND SOLUTIONS\n",
        "### Challenge 1:\n",
        "Collecting Structured User Input in a CLI-Based Environment\n",
        "\n",
        "### Solution:\n",
        "Implemented loop-based prompts for flexible sections such as Education and Experience.\n",
        "\n",
        "Allowed users to press 'Enter' to exit sections cleanly.\n",
        "\n",
        "Grouped inputs logically (Summary → Education → Experience) for smoother flow.\n",
        "\n",
        "### Challenge 2:\n",
        "Designing a Professionally Formatted PDF\n",
        "\n",
        "### Solution:\n",
        "Used drawString() and y-position tracking for precise vertical spacing.\n",
        "\n",
        "Modularized each section (Summary, Education, Skills, etc.) for easier rendering and dynamic content handling.\n",
        "\n",
        "### Challenge 3:\n",
        "Uploading Files to Google Drive\n",
        "\n",
        "### Solution:\n",
        "Used google.colab.auth for seamless authentication.\n",
        "\n",
        "Checked for (or created) a folder named MyResumeCVs.\n",
        "\n",
        "Uploaded PDFs and JPGs with correct MIME types using the Drive API.\n",
        "\n",
        "### Challenge 4:\n",
        "Downloading Files from Google Colab\n",
        "\n",
        "### Solution:\n",
        "Used files.download() to trigger downloads within the notebook.\n",
        "\n",
        "Displayed clear instructions and messages post-generation.\n",
        "\n",
        "### Challenge 5: Error Handling & Fallbacks\n",
        "\n",
        "### Solution:\n",
        "Wrapped file uploads and in try-except blocks.\n",
        "\n",
        "Printed fallback messages to guide the user without terminating execution."
      ],
      "metadata": {
        "id": "UUkMPCcGJdIL"
      }
    },
    {
      "cell_type": "code",
      "source": [
        "!git config --global user.email \"shishirnemo1@gmail.com\"\n",
        "!git config --global user.name \"Shishir Suman\""
      ],
      "metadata": {
        "id": "9Qghj0Xhpavf"
      },
      "execution_count": null,
      "outputs": []
    }
  ]
}